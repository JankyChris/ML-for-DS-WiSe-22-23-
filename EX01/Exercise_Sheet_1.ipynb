{
  "nbformat": 4,
  "nbformat_minor": 0,
  "metadata": {
    "colab": {
      "provenance": [],
      "collapsed_sections": [],
      "toc_visible": true,
      "authorship_tag": "ABX9TyNMmHsU66k1fnwkwsAD/Hy6",
      "include_colab_link": true
    },
    "kernelspec": {
      "name": "python3",
      "display_name": "Python 3"
    },
    "language_info": {
      "name": "python"
    }
  },
  "cells": [
    {
      "cell_type": "markdown",
      "metadata": {
        "id": "view-in-github",
        "colab_type": "text"
      },
      "source": [
        "<a href=\"https://colab.research.google.com/github/JankyChris/ML-for-DS-WiSe-22-23-/blob/main/EX01/Exercise_Sheet_1.ipynb\" target=\"_parent\"><img src=\"https://colab.research.google.com/assets/colab-badge.svg\" alt=\"Open In Colab\"/></a>"
      ]
    },
    {
      "cell_type": "code",
      "execution_count": null,
      "metadata": {
        "id": "3A-q0P9CI9km"
      },
      "outputs": [],
      "source": [
        "%matplotlib inline\n",
        "\n",
        "import matplotlib\n",
        "from matplotlib import pyplot as plt\n",
        "import numpy\n",
        "from PIL import image\n",
        "import scipy\n",
        "import scipy.spatial\n",
        "import sqlite3\n",
        "import torch\n",
        "import torchvision\n",
        "import torchvision.transforms"
      ]
    },
    {
      "cell_type": "markdown",
      "source": [
        "# Exercise 1: Loading CSV Data"
      ],
      "metadata": {
        "id": "1FQZ-TAULVlm"
      }
    },
    {
      "cell_type": "markdown",
      "source": [
        "a)"
      ],
      "metadata": {
        "id": "snXR0QC9Lcl-"
      }
    },
    {
      "cell_type": "code",
      "source": [],
      "metadata": {
        "id": "jISI_BOsLaau"
      },
      "execution_count": null,
      "outputs": []
    }
  ]
}