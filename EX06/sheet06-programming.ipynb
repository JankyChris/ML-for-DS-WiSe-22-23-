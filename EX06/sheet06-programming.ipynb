{
 "cells": [
  {
   "cell_type": "markdown",
   "metadata": {},
   "source": [
    "<table width='100%'>\n",
    "<tr>\n",
    "<td style='background-color:white'>\n",
    "    <p align=\"left\">\n",
    "    Exercises for the course<br>\n",
    "        <b>Machine Learning for Data Science</b><br>\n",
    "    Winter Semester 2022/23\n",
    "    </p>\n",
    "</td>\n",
    "<td style='background-color:white'>\n",
    "    G. Montavon<br>\n",
    "    Institute of Computer Science<br>\n",
    "    <b>Department of Mathematics and Computer Science</b><br>\n",
    "    Freie Universität Berlin\n",
    "</td>\n",
    "</tr>\n",
    "</table>\n",
    "\n",
    "<br>\n",
    "<center>\n",
    "    <h1>Exercise Sheet 6 (programming part)</h1>\n",
    "</center>\n",
    "<br>\n",
    "\n",
    "In this exercise, we consider canonical correlation analysis (CCA) on two simple problems, one in low dimensions and one in high dimensions. The goal is to implement the original CCA procedure, and the CCA variant for high-dimensional data, in order to handle both cases. The first dataset consists of two trajectories in two dimensions. The dataset is extracted and plotted below. The first data points are shown in dark blue, and the last ones are shown in yellow."
   ]
  },
  {
   "cell_type": "code",
   "execution_count": null,
   "metadata": {},
   "outputs": [],
   "source": [
    "import numpy\n",
    "import matplotlib\n",
    "%matplotlib inline\n",
    "from matplotlib import pyplot as plt\n",
    "import utils\n",
    "\n",
    "X,Y   = utils.getdata()\n",
    "p1,p2 = utils.plotdata(X,Y)"
   ]
  },
  {
   "cell_type": "markdown",
   "metadata": {},
   "source": [
    "For these two trajetories, that can be understood as two different modalities of the same data, we would like determine under which projections they appear maximally correlated.\n",
    "\n",
    "## Exercise 3: Implementing CCA (25 P)\n",
    "\n",
    "As stated in the lecture, the CCA problem in its original form consists of maximizing the cross-correlation objective:\n",
    "\n",
    "$$J(w_x,w_y) =  w_x^\\top C_{xy} w_y$$\n",
    "\n",
    "subject to autocorrelation constraints $w_x^\\top C_{xx} w_x = 1$ and $w_y^\\top C_{yy} w_y = 1$. Using the method of Lagrange multipliers, this optimization problem can be reduced to finding the first eigenvector of the generalized eigenvalue problem:\n",
    "\n",
    "$$\n",
    "\\begin{bmatrix}0 & C_{xy}\\\\C_{yx} & 0\\end{bmatrix}\n",
    "\\begin{bmatrix}w_x\\\\w_y\\end{bmatrix} =\n",
    "\\lambda\n",
    "\\begin{bmatrix}C_{xx} & 0\\\\0 & C_{yy}\\end{bmatrix}\n",
    "\\begin{bmatrix}w_x\\\\w_y\\end{bmatrix} \n",
    "$$\n",
    "\n",
    "Your first task is to write a function that solves this generalized eigenvalue problem. The function you need to implement receives two matrices `X` and `Y` of size `d1` $\\times$ `N` and  `d2` $\\times$ `N` respectively. It should return two vectors of size `d1` and `d2` corresponding to the projections associated to the modalities `X` and `Y`. *(Hint: Note that the data matrices `X` and `Y` have not been centered yet.)*"
   ]
  },
  {
   "cell_type": "code",
   "execution_count": null,
   "metadata": {},
   "outputs": [],
   "source": [
    "import numpy\n",
    "\n",
    "def CCA(X,Y):\n",
    "\n",
    "    ## -------------------------------\n",
    "    ## TODO: replace by your solution\n",
    "    ## -------------------------------\n",
    "    import solution\n",
    "    wx,wy = solution.CCA(X,Y)\n",
    "    ## -------------------------------\n",
    "    \n",
    "    return wx,wy"
   ]
  },
  {
   "cell_type": "markdown",
   "metadata": {},
   "source": [
    "The function can now be called with our dataset. The learned projection vectors $w_x$ and $w_y$ are plotted as red arrows."
   ]
  },
  {
   "cell_type": "code",
   "execution_count": null,
   "metadata": {},
   "outputs": [],
   "source": [
    "wx,wy = CCA(X,Y)\n",
    "\n",
    "p1,p2 = utils.plotdata(X,Y)\n",
    "p1.arrow(0,0,1*wx[0],1*wx[1],color='red',width=0.1)\n",
    "p2.arrow(0,0,1*wy[0],1*wy[1],color='red',width=0.1)\n",
    "plt.show()"
   ]
  },
  {
   "cell_type": "markdown",
   "metadata": {},
   "source": [
    "In each modality, the arrow points in a specific direction (note that the optimal CCA directions are defined up to a sign flip of both $w_x$ and $w_y$). Furthermore, we can verify CCA has learned a meaningful solution by projecting the data on it."
   ]
  },
  {
   "cell_type": "code",
   "execution_count": null,
   "metadata": {},
   "outputs": [],
   "source": [
    "plt.figure(figsize=(6,2))\n",
    "plt.plot(wx.dot(X))\n",
    "plt.plot(wy.dot(Y))\n",
    "plt.show()"
   ]
  },
  {
   "cell_type": "markdown",
   "metadata": {},
   "source": [
    "Clearly, the data is correlated in the projected space.\n",
    "\n",
    "## Exercise 4: Implementing CCA for High Dimensions (25 P)\n",
    "\n",
    "In the second part of the exercise, we consider the case where the data is high dimensional (with `d` $\\gg$ `N`). Such high-dimensionality occurs for example, when input data are images. We consider the scenario where sources emit spatially, and two (noisy) receivers measure the spatial field at different locations. We would like to identify the signal that is common to the two measured locations, e.g. a given source emitting at a given frequency. We first load the data and show one example."
   ]
  },
  {
   "cell_type": "code",
   "execution_count": null,
   "metadata": {},
   "outputs": [],
   "source": [
    "X,Y = utils.getHDdata()\n",
    "\n",
    "utils.plotHDdata(X[:,0],Y[:,0])\n",
    "plt.show()"
   ]
  },
  {
   "cell_type": "markdown",
   "metadata": {},
   "source": [
    "Several sources can be perceived, however, there is a significant level of noise. Here again, we will use CCA to find subspaces where the two modalities are maximally correlated. In this example, because there are many more dimensions than there are data points, it is more advantageous to solve the alternate formulation of CCA in terms of the weightings $\\alpha_x$ and $\\alpha_y$. Your task is to implement the latter CCA solver. Like the original CCA solver, it receives two data matrices of size `d1` $\\times$ `N` and `d2` $\\times$ `N` respectively as input, and should return the associate CCA directions (two vectors of respective sizes `d1` and `d2`)."
   ]
  },
  {
   "cell_type": "code",
   "execution_count": null,
   "metadata": {},
   "outputs": [],
   "source": [
    "def CCA_HD(X,Y):\n",
    "\n",
    "    ## -------------------------------\n",
    "    ## TODO: replace by your solution\n",
    "    ## -------------------------------\n",
    "    import solution\n",
    "    wx,wy = solution.CCA_HD(X,Y)\n",
    "    ## -------------------------------\n",
    "    \n",
    "    return wx,wy"
   ]
  },
  {
   "cell_type": "markdown",
   "metadata": {},
   "source": [
    "We now call the function we have implemented with a training sequence of 100 pairs of images. Because the returned solution is of same dimensions as the inputs, it can be rendered in a similar fashion."
   ]
  },
  {
   "cell_type": "code",
   "execution_count": null,
   "metadata": {},
   "outputs": [],
   "source": [
    "wx,wy = CCA_HD(X,Y)\n",
    "\n",
    "utils.plotHDdata(wx,wy)\n",
    "plt.show()"
   ]
  },
  {
   "cell_type": "markdown",
   "metadata": {},
   "source": [
    "Here, we can clearly see a common factor that has been extracted between the two fields, specifically a point source emitting at a particular frequency. The sequence of image pairs can now be projected on these two filters:"
   ]
  },
  {
   "cell_type": "code",
   "execution_count": null,
   "metadata": {},
   "outputs": [],
   "source": [
    "plt.figure(figsize=(6,2))\n",
    "plt.plot(wx.dot(X))\n",
    "plt.plot(wy.dot(Y))\n",
    "plt.show()"
   ]
  }
 ],
 "metadata": {
  "kernelspec": {
   "display_name": "Python 3",
   "language": "python",
   "name": "python3"
  },
  "language_info": {
   "codemirror_mode": {
    "name": "ipython",
    "version": 3
   },
   "file_extension": ".py",
   "mimetype": "text/x-python",
   "name": "python",
   "nbconvert_exporter": "python",
   "pygments_lexer": "ipython3",
   "version": "3.8.10"
  }
 },
 "nbformat": 4,
 "nbformat_minor": 1
}
